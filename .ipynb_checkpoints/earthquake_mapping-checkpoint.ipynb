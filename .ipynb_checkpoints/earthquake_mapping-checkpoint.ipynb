{
 "cells": [
  {
   "cell_type": "code",
   "execution_count": 2,
   "id": "1e4c75cf-54f5-454f-be95-b47a10fdedb9",
   "metadata": {},
   "outputs": [
    {
     "name": "stdout",
     "output_type": "stream",
     "text": [
      "Collecting folium\n",
      "  Downloading folium-0.19.5-py2.py3-none-any.whl.metadata (4.1 kB)\n",
      "Collecting branca>=0.6.0 (from folium)\n",
      "  Downloading branca-0.8.1-py3-none-any.whl.metadata (1.5 kB)\n",
      "Requirement already satisfied: jinja2>=2.9 in /opt/miniconda3/lib/python3.12/site-packages (from folium) (3.1.6)\n",
      "Requirement already satisfied: numpy in /opt/miniconda3/lib/python3.12/site-packages (from folium) (2.1.3)\n",
      "Requirement already satisfied: requests in /opt/miniconda3/lib/python3.12/site-packages (from folium) (2.31.0)\n",
      "Collecting xyzservices (from folium)\n",
      "  Downloading xyzservices-2025.4.0-py3-none-any.whl.metadata (4.3 kB)\n",
      "Requirement already satisfied: MarkupSafe>=2.0 in /opt/miniconda3/lib/python3.12/site-packages (from jinja2>=2.9->folium) (3.0.2)\n",
      "Requirement already satisfied: charset-normalizer<4,>=2 in /opt/miniconda3/lib/python3.12/site-packages (from requests->folium) (2.0.4)\n",
      "Requirement already satisfied: idna<4,>=2.5 in /opt/miniconda3/lib/python3.12/site-packages (from requests->folium) (3.4)\n",
      "Requirement already satisfied: urllib3<3,>=1.21.1 in /opt/miniconda3/lib/python3.12/site-packages (from requests->folium) (2.1.0)\n",
      "Requirement already satisfied: certifi>=2017.4.17 in /opt/miniconda3/lib/python3.12/site-packages (from requests->folium) (2025.1.31)\n",
      "Downloading folium-0.19.5-py2.py3-none-any.whl (110 kB)\n",
      "\u001b[2K   \u001b[90m━━━━━━━━━━━━━━━━━━━━━━━━━━━━━━━━━━━━━━━━\u001b[0m \u001b[32m110.9/110.9 kB\u001b[0m \u001b[31m4.8 MB/s\u001b[0m eta \u001b[36m0:00:00\u001b[0m\n",
      "\u001b[?25hDownloading branca-0.8.1-py3-none-any.whl (26 kB)\n",
      "Downloading xyzservices-2025.4.0-py3-none-any.whl (90 kB)\n",
      "\u001b[2K   \u001b[90m━━━━━━━━━━━━━━━━━━━━━━━━━━━━━━━━━━━━━━━━\u001b[0m \u001b[32m90.4/90.4 kB\u001b[0m \u001b[31m9.9 MB/s\u001b[0m eta \u001b[36m0:00:00\u001b[0m\n",
      "\u001b[?25hInstalling collected packages: xyzservices, branca, folium\n",
      "Successfully installed branca-0.8.1 folium-0.19.5 xyzservices-2025.4.0\n"
     ]
    },
    {
     "data": {
      "application/vnd.jupyter.widget-view+json": {
       "model_id": "aaf7d8aed1fd4d848d4dbdf6a4cf8d5b",
       "version_major": 2,
       "version_minor": 0
      },
      "text/plain": [
       "HBox(children=(VBox(children=(Dropdown(description='Damage:', options=('All', 'Mild', 'Moderate', 'Severe'), s…"
      ]
     },
     "metadata": {},
     "output_type": "display_data"
    },
    {
     "data": {
      "application/vnd.jupyter.widget-view+json": {
       "model_id": "1d3403ecda904abcb9af30cb3d571f12",
       "version_major": 2,
       "version_minor": 0
      },
      "text/plain": [
       "Output()"
      ]
     },
     "metadata": {},
     "output_type": "display_data"
    }
   ],
   "source": [
    "# Disaster Mapping and Visualization Tool for UN DSS - Myanmar Earthquake\n",
    "\n",
    "# --- Install required libraries (uncomment if needed)\n",
    "# !pip install folium pandas geopandas ipywidgets\n",
    "\n",
    "import pandas as pd\n",
    "!pip install folium\n",
    "import folium\n",
    "from folium.plugins import MarkerCluster\n",
    "import ipywidgets as widgets\n",
    "from IPython.display import display, clear_output\n",
    "\n",
    "# Mock sample disaster data (replace with real data later)\n",
    "data = {\n",
    "    'Location': ['Mandalay', 'Pyin Oo Lwin', 'Sagaing', 'Naypyidaw', 'Meiktila'],\n",
    "    'Latitude': [21.9781, 22.0355, 21.8787, 19.7633, 20.8778],\n",
    "    'Longitude': [96.0836, 96.4597, 95.9784, 96.0785, 95.8585],\n",
    "    'Damage_Level': ['Severe', 'Moderate', 'Severe', 'Mild', 'Moderate'],\n",
    "    'Needs': ['Medical, Shelter', 'Food, Water', 'Medical, Water', 'Temporary Shelter', 'Food, Medical'],\n",
    "    'IDPs_Affected': [100000, 50000, 120000, 25000, 40000]\n",
    "}\n",
    "\n",
    "df = pd.DataFrame(data)\n",
    "\n",
    "# --- UI Components ---\n",
    "\n",
    "# Dropdown to filter by Damage Level\n",
    "damage_filter = widgets.Dropdown(\n",
    "    options=['All', 'Mild', 'Moderate', 'Severe'],\n",
    "    value='All',\n",
    "    description='Damage:',\n",
    "    style={'description_width': 'initial'}\n",
    ")\n",
    "\n",
    "# Text input to search by City Name\n",
    "location_search = widgets.Text(\n",
    "    value='',\n",
    "    placeholder='Enter city name...',\n",
    "    description='Search Location:',\n",
    "    style={'description_width': 'initial'}\n",
    ")\n",
    "\n",
    "# Button to Refresh Map\n",
    "refresh_button = widgets.Button(\n",
    "    description='Update Map',\n",
    "    button_style='success',\n",
    "    tooltip='Click to refresh map based on filters'\n",
    ")\n",
    "\n",
    "# Output area for map\n",
    "map_output = widgets.Output()\n",
    "\n",
    "# --- Map Display Function ---\n",
    "def plot_map(damage_filter_value, location_query):\n",
    "    m = folium.Map(location=[21.5, 96.0], zoom_start=6)\n",
    "    marker_cluster = MarkerCluster().add_to(m)\n",
    "\n",
    "    filtered_df = df.copy()\n",
    "\n",
    "    if damage_filter_value != 'All':\n",
    "        filtered_df = filtered_df[filtered_df['Damage_Level'] == damage_filter_value]\n",
    "\n",
    "    if location_query:\n",
    "        filtered_df = filtered_df[filtered_df['Location'].str.contains(location_query, case=False)]\n",
    "\n",
    "    # Color code by damage level\n",
    "    color_dict = {'Severe': 'red', 'Moderate': 'orange', 'Mild': 'green'}\n",
    "\n",
    "    for idx, row in filtered_df.iterrows():\n",
    "        folium.Marker(\n",
    "            location=[row['Latitude'], row['Longitude']],\n",
    "            popup=(\n",
    "                f\"<b>Location:</b> {row['Location']}<br>\"\n",
    "                f\"<b>Damage:</b> {row['Damage_Level']}<br>\"\n",
    "                f\"<b>Needs:</b> {row['Needs']}<br>\"\n",
    "                f\"<b>IDPs Affected:</b> {row['IDPs_Affected']:,}\"\n",
    "            ),\n",
    "            icon=folium.Icon(color=color_dict.get(row['Damage_Level'], 'blue'))\n",
    "        ).add_to(marker_cluster)\n",
    "\n",
    "    return m\n",
    "\n",
    "# --- Button Click Event ---\n",
    "def on_refresh_clicked(b):\n",
    "    with map_output:\n",
    "        clear_output(wait=True)\n",
    "        m = plot_map(damage_filter.value, location_search.value)\n",
    "        display(m)\n",
    "        m.save('myanmar_earthquake_map.html')\n",
    "\n",
    "\n",
    "refresh_button.on_click(on_refresh_clicked)\n",
    "\n",
    "# --- Display UI ---\n",
    "controls = widgets.VBox([damage_filter, location_search, refresh_button])\n",
    "display(widgets.HBox([controls]))\n",
    "display(map_output)\n",
    "\n",
    "# Initialize map once\n",
    "on_refresh_clicked(None)\n"
   ]
  },
  {
   "cell_type": "code",
   "execution_count": null,
   "id": "0528c24a-a936-4b2c-83cd-1d1bd9ce5c8b",
   "metadata": {},
   "outputs": [],
   "source": []
  },
  {
   "cell_type": "code",
   "execution_count": null,
   "id": "7cca423c-849d-4434-97b0-e86029ebc575",
   "metadata": {},
   "outputs": [],
   "source": []
  }
 ],
 "metadata": {
  "kernelspec": {
   "display_name": "Python 3 (ipykernel)",
   "language": "python",
   "name": "python3"
  },
  "language_info": {
   "codemirror_mode": {
    "name": "ipython",
    "version": 3
   },
   "file_extension": ".py",
   "mimetype": "text/x-python",
   "name": "python",
   "nbconvert_exporter": "python",
   "pygments_lexer": "ipython3",
   "version": "3.12.1"
  }
 },
 "nbformat": 4,
 "nbformat_minor": 5
}
